{
 "cells": [
  {
   "cell_type": "code",
   "execution_count": 1,
   "id": "b0a38788-54fe-4ecd-bb12-6517156f074e",
   "metadata": {},
   "outputs": [],
   "source": [
    "import requests\n",
    "from bs4 import BeautifulSoup\n",
    "import pandas as pd"
   ]
  },
  {
   "cell_type": "code",
   "execution_count": 2,
   "id": "1a8581b3-7ab4-4cf3-a6ec-5531f39eed2e",
   "metadata": {},
   "outputs": [],
   "source": [
    "# Flipkart Base URL\n",
    "base_url_flipkart = \"https://www.flipkart.com/search?q=\""
   ]
  },
  {
   "cell_type": "code",
   "execution_count": 3,
   "id": "759e3ee6-972b-4bb2-9197-2f3df6244375",
   "metadata": {},
   "outputs": [
    {
     "name": "stdin",
     "output_type": "stream",
     "text": [
      "Enter the product to search for:  phone\n"
     ]
    }
   ],
   "source": [
    "# User Input Query\n",
    "user_query = input(\"Enter the product to search for: \")"
   ]
  },
  {
   "cell_type": "code",
   "execution_count": 4,
   "id": "1118d330-6d0d-4efe-8a9f-bec8106d59ad",
   "metadata": {},
   "outputs": [
    {
     "name": "stdin",
     "output_type": "stream",
     "text": [
      "Enter the number of pages to scrape:  3\n"
     ]
    }
   ],
   "source": [
    "# Number of Pages\n",
    "num_pages = int(input(\"Enter the number of pages to scrape: \"))"
   ]
  },
  {
   "cell_type": "code",
   "execution_count": 5,
   "id": "0bd4f41e-e546-4586-b7f8-64e650b8734f",
   "metadata": {},
   "outputs": [],
   "source": [
    "# Lists to store scraped data\n",
    "Product_name = []\n",
    "Prices = []\n",
    "Description = []\n",
    "Reviews = []"
   ]
  },
  {
   "cell_type": "code",
   "execution_count": 7,
   "id": "50945b75-5eba-4f08-9871-d4f32f6ca862",
   "metadata": {},
   "outputs": [
    {
     "name": "stdout",
     "output_type": "stream",
     "text": [
      "Flipkart URL: https://www.flipkart.com/search?q=phone&page=1\n",
      "Flipkart URL: https://www.flipkart.com/search?q=phone&page=2\n",
      "Flipkart URL: https://www.flipkart.com/search?q=phone&page=3\n"
     ]
    }
   ],
   "source": [
    "# Loop through the specified number of pages\n",
    "for i in range(1, num_pages + 1):\n",
    "    # Dynamically construct the Flipkart URL\n",
    "    flipkart_url = f\"{base_url_flipkart}{user_query.replace(' ', '+')}&page=\"+str(i)\n",
    "    print(f\"Flipkart URL: {flipkart_url}\")\n",
    "    # Send a GET request to the Flipkart page\n",
    "    response = requests.get(flipkart_url)\n",
    "\n",
    "    # Parse the HTML content using BeautifulSoup\n",
    "    soup = BeautifulSoup(response.text, \"html.parser\")\n",
    "    #next_page = soup.find(\"a\",class_ = \"_9QVEpD\").get(\"href\")\n",
    "    #complete_page = \"https://www.flipkart.com\"+next_page\n",
    "    box = soup.find(\"div\",class_=\"DOjaWF gdgoEp\")\n",
    "    names = box.find_all(\"div\",class_ = \"KzDlHZ\") # class of product name\n",
    "    for i in names:\n",
    "        name = i.text\n",
    "        Product_name.append(name if name else \"N/A\")\n",
    "    prices = box.find_all(\"div\",class_ = \"Nx9bqj _4b5DiR\") # class of price \n",
    "    for i in prices:\n",
    "        name = i.text\n",
    "        Prices.append(name if name else \"N/A\")\n",
    "    des = box.find_all(\"div\",class_ = \"_6NESgJ\")  # class of des\n",
    "    for i in des:\n",
    "        name = i.text\n",
    "        Description.append(name if name else \"N/A\")\n",
    "    reviews = box.find_all(\"div\",class_ = \"XQDdHH\")   # class of review\n",
    "    for i in reviews:\n",
    "        name = i.text\n",
    "        Reviews.append(name if name else \"N/A\")"
   ]
  },
  {
   "cell_type": "code",
   "execution_count": 8,
   "id": "b28365a0-9566-489b-b640-67abb9634809",
   "metadata": {},
   "outputs": [],
   "source": [
    "if len(Product_name) != len(Prices):\n",
    "    print(\"Mismatch detected, adjusting lengths...\")\n",
    "    while len(Prices) < len(Product_name):\n",
    "        Prices.append(\"N/A\")\n",
    "    while len(Product_name) < len(Prices):\n",
    "        Product_name.append(\"N/A\")"
   ]
  },
  {
   "cell_type": "code",
   "execution_count": 9,
   "id": "00484020-5401-4d5d-8834-765fa35e6854",
   "metadata": {},
   "outputs": [],
   "source": [
    "if len(Product_name) != len(Reviews):\n",
    "    print(\"Mismatch detected, adjusting lengths...\")\n",
    "    while len(Reviews) < len(Product_name):\n",
    "        Prices.append(\"N/A\")\n",
    "    while len(Product_name) < len(Reviews):\n",
    "        Product_name.append(\"N/A\")"
   ]
  },
  {
   "cell_type": "code",
   "execution_count": 10,
   "id": "f5c4858d-afd8-4018-8661-1fa5fd1913a5",
   "metadata": {},
   "outputs": [],
   "source": [
    "if len(Product_name) != len(Description):\n",
    "    print(\"Mismatch detected, adjusting lengths...\")\n",
    "    while len(Description) < len(Product_name):\n",
    "        Prices.append(\"N/A\")\n",
    "    while len(Product_name) < len(Description):\n",
    "        Product_name.append(\"N/A\")"
   ]
  },
  {
   "cell_type": "code",
   "execution_count": 11,
   "id": "4e595bc8-92d3-4fb5-b192-eedda5c4a1f2",
   "metadata": {},
   "outputs": [
    {
     "data": {
      "text/plain": [
       "72"
      ]
     },
     "execution_count": 11,
     "metadata": {},
     "output_type": "execute_result"
    }
   ],
   "source": [
    "len(Prices)"
   ]
  },
  {
   "cell_type": "code",
   "execution_count": 12,
   "id": "cee7be25-858d-462b-a992-ab885b7e651f",
   "metadata": {},
   "outputs": [
    {
     "data": {
      "text/plain": [
       "72"
      ]
     },
     "execution_count": 12,
     "metadata": {},
     "output_type": "execute_result"
    }
   ],
   "source": [
    "len(Product_name)"
   ]
  },
  {
   "cell_type": "code",
   "execution_count": 13,
   "id": "da2246ed-67e9-44d0-9a98-251d36fb9fff",
   "metadata": {},
   "outputs": [
    {
     "data": {
      "text/plain": [
       "72"
      ]
     },
     "execution_count": 13,
     "metadata": {},
     "output_type": "execute_result"
    }
   ],
   "source": [
    "len(Description)"
   ]
  },
  {
   "cell_type": "code",
   "execution_count": 14,
   "id": "457da5c6-dc15-40ed-8f3a-15182881b097",
   "metadata": {},
   "outputs": [
    {
     "data": {
      "text/plain": [
       "72"
      ]
     },
     "execution_count": 14,
     "metadata": {},
     "output_type": "execute_result"
    }
   ],
   "source": [
    "len(Reviews)"
   ]
  },
  {
   "cell_type": "code",
   "execution_count": 15,
   "id": "3c5db271-7935-4d59-8e8a-3db1b32a0d9e",
   "metadata": {},
   "outputs": [],
   "source": [
    "df = pd.DataFrame({\"Product Name \":Product_name,\"Prices\":Prices,\"Description\":Description,\"Reviews\":Reviews})"
   ]
  },
  {
   "cell_type": "code",
   "execution_count": 16,
   "id": "e62e1ba9-f59e-4704-9b40-fc9502b5a21e",
   "metadata": {},
   "outputs": [
    {
     "data": {
      "text/html": [
       "<div>\n",
       "<style scoped>\n",
       "    .dataframe tbody tr th:only-of-type {\n",
       "        vertical-align: middle;\n",
       "    }\n",
       "\n",
       "    .dataframe tbody tr th {\n",
       "        vertical-align: top;\n",
       "    }\n",
       "\n",
       "    .dataframe thead th {\n",
       "        text-align: right;\n",
       "    }\n",
       "</style>\n",
       "<table border=\"1\" class=\"dataframe\">\n",
       "  <thead>\n",
       "    <tr style=\"text-align: right;\">\n",
       "      <th></th>\n",
       "      <th>Product Name</th>\n",
       "      <th>Prices</th>\n",
       "      <th>Description</th>\n",
       "      <th>Reviews</th>\n",
       "    </tr>\n",
       "  </thead>\n",
       "  <tbody>\n",
       "    <tr>\n",
       "      <th>0</th>\n",
       "      <td>Apple iPhone 15 (Black, 128 GB)</td>\n",
       "      <td>₹60,499</td>\n",
       "      <td>128 GB ROM15.49 cm (6.1 inch) Super Retina XDR...</td>\n",
       "      <td>4.6</td>\n",
       "    </tr>\n",
       "    <tr>\n",
       "      <th>1</th>\n",
       "      <td>vivo T3 Lite 5G (Majestic Black, 128 GB)</td>\n",
       "      <td>₹11,499</td>\n",
       "      <td>6 GB RAM | 128 GB ROM | Expandable Upto 1 TB16...</td>\n",
       "      <td>4.4</td>\n",
       "    </tr>\n",
       "    <tr>\n",
       "      <th>2</th>\n",
       "      <td>Apple iPhone 15 (Green, 128 GB)</td>\n",
       "      <td>₹60,499</td>\n",
       "      <td>128 GB ROM15.49 cm (6.1 inch) Super Retina XDR...</td>\n",
       "      <td>4.6</td>\n",
       "    </tr>\n",
       "    <tr>\n",
       "      <th>3</th>\n",
       "      <td>vivo T3 Lite 5G (Vibrant Green, 128 GB)</td>\n",
       "      <td>₹10,499</td>\n",
       "      <td>4 GB RAM | 128 GB ROM | Expandable Upto 1 TB16...</td>\n",
       "      <td>4.4</td>\n",
       "    </tr>\n",
       "    <tr>\n",
       "      <th>4</th>\n",
       "      <td>Motorola Edge 50 Fusion (Marshmallow Blue, 256...</td>\n",
       "      <td>₹24,999</td>\n",
       "      <td>12 GB RAM | 256 GB ROM17.02 cm (6.7 inch) Full...</td>\n",
       "      <td>4.5</td>\n",
       "    </tr>\n",
       "    <tr>\n",
       "      <th>...</th>\n",
       "      <td>...</td>\n",
       "      <td>...</td>\n",
       "      <td>...</td>\n",
       "      <td>...</td>\n",
       "    </tr>\n",
       "    <tr>\n",
       "      <th>67</th>\n",
       "      <td>Motorola g45 5G (Viva Magenta, 128 GB)</td>\n",
       "      <td>₹10,999</td>\n",
       "      <td>4 GB RAM | 128 GB ROM | Expandable Upto 1 TB16...</td>\n",
       "      <td>4.3</td>\n",
       "    </tr>\n",
       "    <tr>\n",
       "      <th>68</th>\n",
       "      <td>Motorola g64 5G (Mint Green, 128 GB)</td>\n",
       "      <td>₹14,999</td>\n",
       "      <td>8 GB RAM | 128 GB ROM | Expandable Upto 1 TB16...</td>\n",
       "      <td>4.3</td>\n",
       "    </tr>\n",
       "    <tr>\n",
       "      <th>69</th>\n",
       "      <td>Motorola g04s (Sea Green, 64 GB)</td>\n",
       "      <td>₹7,299</td>\n",
       "      <td>4 GB RAM | 64 GB ROM | Expandable Upto 1 TB16....</td>\n",
       "      <td>4.2</td>\n",
       "    </tr>\n",
       "    <tr>\n",
       "      <th>70</th>\n",
       "      <td>Apple iPhone 16 (Ultramarine, 128 GB)</td>\n",
       "      <td>₹74,900</td>\n",
       "      <td>128 GB ROM15.49 cm (6.1 inch) Super Retina XDR...</td>\n",
       "      <td>4.6</td>\n",
       "    </tr>\n",
       "    <tr>\n",
       "      <th>71</th>\n",
       "      <td>realme P1 5G (Feather Blue, 128 GB)</td>\n",
       "      <td>₹14,999</td>\n",
       "      <td>6 GB RAM | 128 GB ROM | Expandable Upto 2 TB16...</td>\n",
       "      <td>4.4</td>\n",
       "    </tr>\n",
       "  </tbody>\n",
       "</table>\n",
       "<p>72 rows × 4 columns</p>\n",
       "</div>"
      ],
      "text/plain": [
       "                                        Product Name    Prices  \\\n",
       "0                     Apple iPhone 15 (Black, 128 GB)  ₹60,499   \n",
       "1            vivo T3 Lite 5G (Majestic Black, 128 GB)  ₹11,499   \n",
       "2                     Apple iPhone 15 (Green, 128 GB)  ₹60,499   \n",
       "3             vivo T3 Lite 5G (Vibrant Green, 128 GB)  ₹10,499   \n",
       "4   Motorola Edge 50 Fusion (Marshmallow Blue, 256...  ₹24,999   \n",
       "..                                                ...      ...   \n",
       "67             Motorola g45 5G (Viva Magenta, 128 GB)  ₹10,999   \n",
       "68               Motorola g64 5G (Mint Green, 128 GB)  ₹14,999   \n",
       "69                   Motorola g04s (Sea Green, 64 GB)   ₹7,299   \n",
       "70              Apple iPhone 16 (Ultramarine, 128 GB)  ₹74,900   \n",
       "71                realme P1 5G (Feather Blue, 128 GB)  ₹14,999   \n",
       "\n",
       "                                          Description Reviews  \n",
       "0   128 GB ROM15.49 cm (6.1 inch) Super Retina XDR...     4.6  \n",
       "1   6 GB RAM | 128 GB ROM | Expandable Upto 1 TB16...     4.4  \n",
       "2   128 GB ROM15.49 cm (6.1 inch) Super Retina XDR...     4.6  \n",
       "3   4 GB RAM | 128 GB ROM | Expandable Upto 1 TB16...     4.4  \n",
       "4   12 GB RAM | 256 GB ROM17.02 cm (6.7 inch) Full...     4.5  \n",
       "..                                                ...     ...  \n",
       "67  4 GB RAM | 128 GB ROM | Expandable Upto 1 TB16...     4.3  \n",
       "68  8 GB RAM | 128 GB ROM | Expandable Upto 1 TB16...     4.3  \n",
       "69  4 GB RAM | 64 GB ROM | Expandable Upto 1 TB16....     4.2  \n",
       "70  128 GB ROM15.49 cm (6.1 inch) Super Retina XDR...     4.6  \n",
       "71  6 GB RAM | 128 GB ROM | Expandable Upto 2 TB16...     4.4  \n",
       "\n",
       "[72 rows x 4 columns]"
      ]
     },
     "execution_count": 16,
     "metadata": {},
     "output_type": "execute_result"
    }
   ],
   "source": [
    "df"
   ]
  },
  {
   "cell_type": "code",
   "execution_count": 17,
   "id": "d78d6906-a4eb-49f2-8a83-4d281ff885ab",
   "metadata": {},
   "outputs": [],
   "source": [
    "df.to_csv(\"flipkart_.csv\")"
   ]
  },
  {
   "cell_type": "code",
   "execution_count": null,
   "id": "d4562abe-3761-4bda-bb06-1f7f98baa65c",
   "metadata": {},
   "outputs": [],
   "source": []
  }
 ],
 "metadata": {
  "kernelspec": {
   "display_name": "Python 3 (ipykernel)",
   "language": "python",
   "name": "python3"
  },
  "language_info": {
   "codemirror_mode": {
    "name": "ipython",
    "version": 3
   },
   "file_extension": ".py",
   "mimetype": "text/x-python",
   "name": "python",
   "nbconvert_exporter": "python",
   "pygments_lexer": "ipython3",
   "version": "3.12.4"
  }
 },
 "nbformat": 4,
 "nbformat_minor": 5
}
