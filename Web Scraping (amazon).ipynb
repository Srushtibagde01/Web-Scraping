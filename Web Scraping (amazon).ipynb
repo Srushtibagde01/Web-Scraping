{
 "cells": [
  {
   "cell_type": "code",
   "execution_count": 1,
   "id": "0a4a5c49-9fa0-4465-9e47-62c4404ca2a9",
   "metadata": {},
   "outputs": [],
   "source": [
    "import requests\n",
    "from bs4 import BeautifulSoup\n",
    "import pandas as pd"
   ]
  },
  {
   "cell_type": "code",
   "execution_count": 2,
   "id": "201e328a-41f3-4d29-b92f-00b25b5c1d93",
   "metadata": {},
   "outputs": [],
   "source": [
    "# Amazon Base URL \n",
    "base_url_amazon = \"https://www.amazon.in/s?k=\""
   ]
  },
  {
   "cell_type": "code",
   "execution_count": 3,
   "id": "37b59028-ed08-46d3-9e11-3e2271b54daa",
   "metadata": {},
   "outputs": [
    {
     "name": "stdin",
     "output_type": "stream",
     "text": [
      "Enter the product to search for:  phone\n"
     ]
    }
   ],
   "source": [
    "# User Input Query\n",
    "user_query = input(\"Enter the product to search for: \")"
   ]
  },
  {
   "cell_type": "code",
   "execution_count": 4,
   "id": "2c3de856-d4fa-48d9-a97d-cbc202c4cc22",
   "metadata": {},
   "outputs": [
    {
     "name": "stdin",
     "output_type": "stream",
     "text": [
      "Enter the number of pages to scrape:  3\n"
     ]
    }
   ],
   "source": [
    "# Number of Pages\n",
    "num_pages = int(input(\"Enter the number of pages to scrape: \"))"
   ]
  },
  {
   "cell_type": "code",
   "execution_count": 8,
   "id": "f0db49f4-5b14-4fb7-92bd-c7ebff761aa6",
   "metadata": {},
   "outputs": [],
   "source": [
    "# Lists to store scraped data\n",
    "Product_name = []\n",
    "Prices = []"
   ]
  },
  {
   "cell_type": "code",
   "execution_count": 19,
   "id": "8c124f80-bc57-4d81-bb61-455fe0ee3c8a",
   "metadata": {},
   "outputs": [
    {
     "name": "stdout",
     "output_type": "stream",
     "text": [
      "Scraping URL: https://www.amazon.in/s?k=phone&page=1\n",
      "Scraping URL: https://www.amazon.in/s?k=phone&page=2\n",
      "Scraping URL: https://www.amazon.in/s?k=phone&page=3\n"
     ]
    }
   ],
   "source": [
    "# Loop through the specified number of pages\n",
    "for page in range(1, num_pages + 1):\n",
    "    # Dynamically construct the Flipkart URL\n",
    "    amazon_url = f\"{base_url_amazon}{user_query.replace(' ', '+')}&page={page}\"\n",
    "    print(f\"Scraping URL: {amazon_url}\")\n",
    "\n",
    "    # Send a GET request to the Flipkart page\n",
    "    response = requests.get(amazon_url)\n",
    "\n",
    "    # Parse the HTML content using BeautifulSoup\n",
    "    soup = BeautifulSoup(response.text, \"html.parser\")\n",
    "    names = soup.find_all(\"h2\",class_ = \"a-size-medium a-spacing-none a-color-base a-text-normal\") # class of product name\n",
    "    for i in names:\n",
    "        name = i.text\n",
    "        Product_name.append(name if name else \"N/A\")\n",
    "    prices = soup.find_all(\"span\",class_ =\"a-price-whole\") # class of price \n",
    "    for i in prices:\n",
    "        name = i.text\n",
    "        Prices.append(name if name else \"N/A\")\n",
    "    "
   ]
  },
  {
   "cell_type": "code",
   "execution_count": 20,
   "id": "28be9e77-d90c-45bb-a2a4-25186b58f325",
   "metadata": {},
   "outputs": [],
   "source": [
    "if len(Product_name) != len(Prices):\n",
    "    print(\"Mismatch detected, adjusting lengths...\")\n",
    "    while len(Prices) < len(Product_name):\n",
    "        Prices.append(\"N/A\")\n",
    "    while len(Product_name) < len(Prices):\n",
    "        Product_name.append(\"N/A\")"
   ]
  },
  {
   "cell_type": "code",
   "execution_count": 21,
   "id": "46ed9651-e2c1-47e6-9daa-86f489795b6f",
   "metadata": {},
   "outputs": [],
   "source": [
    "df = pd.DataFrame({\"Product Name \":Product_name,\"Prices\":Prices})"
   ]
  }
 ],
 "metadata": {
  "kernelspec": {
   "display_name": "Python 3 (ipykernel)",
   "language": "python",
   "name": "python3"
  },
  "language_info": {
   "codemirror_mode": {
    "name": "ipython",
    "version": 3
   },
   "file_extension": ".py",
   "mimetype": "text/x-python",
   "name": "python",
   "nbconvert_exporter": "python",
   "pygments_lexer": "ipython3",
   "version": "3.12.4"
  }
 },
 "nbformat": 4,
 "nbformat_minor": 5
}
